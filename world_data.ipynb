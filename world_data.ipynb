{
 "cells": [
  {
   "cell_type": "code",
   "execution_count": null,
   "metadata": {},
   "outputs": [],
   "source": [
    "import numpy as np\n",
    "import pandas as pd\n",
    "import json\n",
    "import matplotlib.pyplot as plt\n",
    "\n",
    "import plotly.graph_objects as go\n",
    "import plotly.express as px"
   ]
  },
  {
   "cell_type": "code",
   "execution_count": null,
   "metadata": {},
   "outputs": [],
   "source": [
    "with open('data/config.txt', 'r') as json_file:\n",
    "    data = json.load(json_file)"
   ]
  },
  {
   "cell_type": "code",
   "execution_count": null,
   "metadata": {},
   "outputs": [],
   "source": [
    "MAPBOX_TOKEN = data[\"token\"]\n",
    "MAPBOX_STYLE = \"mapbox://styles/mapbox/dark-v10\""
   ]
  },
  {
   "cell_type": "code",
   "execution_count": null,
   "metadata": {},
   "outputs": [],
   "source": [
    "df = pd.read_csv(\"data/fire_nrt_M6_100853.csv\")"
   ]
  },
  {
   "cell_type": "code",
   "execution_count": null,
   "metadata": {},
   "outputs": [],
   "source": [
    "df.head()"
   ]
  },
  {
   "cell_type": "code",
   "execution_count": null,
   "metadata": {},
   "outputs": [],
   "source": [
    "def to_hour_str(number):\n",
    "    string = '{:04d}'.format(number)\n",
    "    string = string[:2] + ':' + string[2:]\n",
    "    return string"
   ]
  },
  {
   "cell_type": "code",
   "execution_count": null,
   "metadata": {},
   "outputs": [],
   "source": [
    "times = df.groupby(['acq_date'])['acq_date'].count().index.tolist()\n",
    "frames_data = [df.loc[df['acq_date'] == t] for t in times]"
   ]
  },
  {
   "cell_type": "code",
   "execution_count": null,
   "metadata": {},
   "outputs": [],
   "source": [
    "frames= [go.Frame(data=[go.Densitymapbox(lat=f['latitude'], lon=f['longitude'], z=f['brightness'], radius=10)], name=str(f.iloc[0]['acq_date'])) for f in frames_data]"
   ]
  },
  {
   "cell_type": "code",
   "execution_count": null,
   "metadata": {},
   "outputs": [],
   "source": [
    "buttons=[\n",
    "         dict(label=\"Play\",method=\"animate\",args=[None, {'fromcurrent':True, \"transition\": {\"duration\": 30, \"easing\": \"quadratic-in-out\"}}]),\n",
    "         dict(label=\"Pause\",method=\"animate\",args=[[None], {\"frame\": {\"duration\": 0, \"redraw\": False},\"mode\": \"immediate\", \"transition\": {\"duration\": 0}}])\n",
    "]\n",
    "\n",
    "\n",
    "sliders_dict = {\n",
    "    'active':0,\n",
    "    'currentvalue': dict(font=dict(size=16), prefix='Time: ', visible=True),\n",
    "    \"transition\": {\"duration\": 3000, \"easing\": \"cubic-in-out\"},\n",
    "    'x': 0,\n",
    "    'steps': []\n",
    "}\n",
    "\n",
    "for i,t in enumerate(times):\n",
    "    slider_step = {\"args\": [\n",
    "                        [t],\n",
    "                        {\"frame\": {\"duration\": 3000, \"redraw\": False},\n",
    "                         #\"mode\": \"immediate\",\n",
    "                         \"transition\": {\"duration\": 60, \"easing\": \"quadratic-in-out\"}}\n",
    "                    ],\n",
    "            \"label\": t,\n",
    "            \"method\": \"animate\",\n",
    "            \"value\": t\n",
    "    }\n",
    "    sliders_dict['steps'].append(slider_step)"
   ]
  },
  {
   "cell_type": "code",
   "execution_count": null,
   "metadata": {},
   "outputs": [],
   "source": [
    "fig = go.Figure(data = [go.Densitymapbox(lat=df['latitude'], lon=df['longitude'], z=df['brightness'], radius=1, colorscale='Hot', zmax=400, zmin=0)],\n",
    "               layout=go.Layout(updatemenus=[dict(type=\"buttons\", buttons=buttons,showactive=True)] ), \n",
    "               frames=frames\n",
    ")\n",
    "\n",
    "fig.update_layout(mapbox_style=MAPBOX_STYLE, \n",
    "                  mapbox_accesstoken=MAPBOX_TOKEN)\n",
    "\n",
    "\n",
    "fig.update_layout(sliders=[sliders_dict],\n",
    "                 title='Forest fires over time')\n",
    "\n",
    "fig.update_layout(height=850)\n",
    "fig.show()"
   ]
  },
  {
   "cell_type": "code",
   "execution_count": null,
   "metadata": {},
   "outputs": [],
   "source": []
  }
 ],
 "metadata": {
  "kernelspec": {
   "display_name": "nlp",
   "language": "python",
   "name": "nlp"
  },
  "language_info": {
   "codemirror_mode": {
    "name": "ipython",
    "version": 3
   },
   "file_extension": ".py",
   "mimetype": "text/x-python",
   "name": "python",
   "nbconvert_exporter": "python",
   "pygments_lexer": "ipython3",
   "version": "3.7.2"
  }
 },
 "nbformat": 4,
 "nbformat_minor": 2
}
