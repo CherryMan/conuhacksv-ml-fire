{
 "cells": [
  {
   "cell_type": "code",
   "execution_count": null,
   "metadata": {},
   "outputs": [],
   "source": [
    "import numpy as np\n",
    "import pandas as pd\n",
    "import json\n",
    "import matplotlib.pyplot as plt"
   ]
  },
  {
   "cell_type": "code",
   "execution_count": null,
   "metadata": {},
   "outputs": [],
   "source": [
    "with open('data/config.txt', 'r') as json_file:\n",
    "    data = json.load(json_file)"
   ]
  },
  {
   "cell_type": "code",
   "execution_count": null,
   "metadata": {},
   "outputs": [],
   "source": [
    "df1_archive = pd.read_csv(\"data/fire_archive_V1_96617.csv\")\n",
    "df1_real = pd.read_csv(\"data/fire_nrt_V1_96617.csv\")\n",
    "df2_archive = pd.read_csv(\"data/fire_archive_V1_96617.csv\")\n",
    "df2_real = pd.read_csv(\"data/fire_nrt_V1_96617.csv\")"
   ]
  },
  {
   "cell_type": "code",
   "execution_count": null,
   "metadata": {},
   "outputs": [],
   "source": [
    "df1_archive = df1_archive.sort_values(\"acq_date\")\n",
    "df1 = df1_archive"
   ]
  },
  {
   "cell_type": "code",
   "execution_count": null,
   "metadata": {},
   "outputs": [],
   "source": [
    "import plotly.graph_objects as go\n",
    "import plotly.express as px\n",
    "\n",
    "MAPBOX_TOKEN = data[\"token\"]\n",
    "MAPBOX_STYLE = \"mapbox://styles/mapbox/dark-v10\""
   ]
  },
  {
   "cell_type": "code",
   "execution_count": null,
   "metadata": {},
   "outputs": [],
   "source": [
    "def to_hour_str(number):\n",
    "    string = '{:04d}'.format(number)\n",
    "    string = string[:2] + ':' + string[2:]\n",
    "    return string"
   ]
  },
  {
   "cell_type": "code",
   "execution_count": null,
   "metadata": {},
   "outputs": [],
   "source": [
    "df1['acq_datestring'] = df1.apply(lambda r: r['acq_date'] + \" \" + to_hour_str(r['acq_time']), axis=1)"
   ]
  },
  {
   "cell_type": "code",
   "execution_count": null,
   "metadata": {},
   "outputs": [],
   "source": [
    "df1[\"lat_int\"] = pd.cut(df1[\"latitude\"], 1000).astype(str)\n",
    "df1[\"long_int\"] = pd.cut(df1[\"longitude\"], 1000).astype(str)"
   ]
  },
  {
   "cell_type": "code",
   "execution_count": null,
   "metadata": {},
   "outputs": [],
   "source": [
    "df1[\"long_int\"].dtype"
   ]
  },
  {
   "cell_type": "code",
   "execution_count": null,
   "metadata": {},
   "outputs": [],
   "source": [
    "fig = px.histogram(df1, x=\"latitude\")\n",
    "fig.show()"
   ]
  },
  {
   "cell_type": "code",
   "execution_count": null,
   "metadata": {},
   "outputs": [],
   "source": [
    "fig = go.Figure()\n",
    "fig.add_trace(go.Scatter(\n",
    "    x=df1[\"longitude\"],\n",
    "    y=df1[\"latitude\"],\n",
    "    mode='markers',\n",
    "    showlegend=False,\n",
    "    marker=dict(\n",
    "        symbol='circle',\n",
    "        opacity=0.7,\n",
    "        color='white',\n",
    "        size=8,\n",
    "        line=dict(width=1),\n",
    "    )\n",
    "))\n",
    "\n",
    "fig.add_trace(go.Histogram2d(\n",
    "    x=df1[\"longitude\"],\n",
    "    y=df1[\"latitude\"],\n",
    "    colorscale=\"Viridis\",\n",
    "    nbinsx=1400,\n",
    "    nbinsy=1400,\n",
    "    zauto=False,\n",
    "))\n",
    "fig.show()\n"
   ]
  },
  {
   "cell_type": "code",
   "execution_count": null,
   "metadata": {},
   "outputs": [],
   "source": [
    "times = df1_archive.groupby(['acq_date'])['acq_date'].count().index.tolist()\n",
    "frames_data = [df1_archive.loc[df1_archive['acq_date'] == t] for t in times]"
   ]
  },
  {
   "cell_type": "code",
   "execution_count": null,
   "metadata": {},
   "outputs": [],
   "source": [
    "df = df1_archive[df1_archive[\"acq_date\"] == \"2019-08-01\"]"
   ]
  },
  {
   "cell_type": "code",
   "execution_count": null,
   "metadata": {},
   "outputs": [],
   "source": [
    "print(df[[\"latitude\",\"longitude\"]])"
   ]
  },
  {
   "cell_type": "code",
   "execution_count": null,
   "metadata": {},
   "outputs": [],
   "source": [
    "frames= [go.Frame(data=[go.Densitymapbox(lat=f['latitude'], lon=f['longitude'], z=f['bright_ti4'], radius=10)], name=str(f.iloc[0]['acq_date'])) for f in frames_data]"
   ]
  },
  {
   "cell_type": "code",
   "execution_count": null,
   "metadata": {},
   "outputs": [],
   "source": [
    "buttons=[\n",
    "         dict(label=\"Play\",method=\"animate\",args=[None, {'fromcurrent':True, \"transition\": {\"duration\": 30, \"easing\": \"quadratic-in-out\"}}]),\n",
    "         dict(label=\"Pause\",method=\"animate\",args=[[None], {\"frame\": {\"duration\": 0, \"redraw\": False},\"mode\": \"immediate\", \"transition\": {\"duration\": 0}}])\n",
    "]\n",
    "\n",
    "\n",
    "sliders_dict = {\n",
    "    'active':0,\n",
    "    'currentvalue': dict(font=dict(size=16), prefix='Time: ', visible=True),\n",
    "    \"transition\": {\"duration\": 300, \"easing\": \"cubic-in-out\"},\n",
    "    'x': 0,\n",
    "    'steps': []\n",
    "}\n",
    "\n",
    "for i,t in enumerate(times):\n",
    "    slider_step = {\"args\": [\n",
    "                        [t],\n",
    "                        {\"frame\": {\"duration\": 300, \"redraw\": False},\n",
    "                         #\"mode\": \"immediate\",\n",
    "                         \"transition\": {\"duration\": 30, \"easing\": \"quadratic-in-out\"}}\n",
    "                    ],\n",
    "            \"label\": t,\n",
    "            \"method\": \"animate\",\n",
    "            \"value\": t\n",
    "    }\n",
    "    sliders_dict['steps'].append(slider_step)"
   ]
  },
  {
   "cell_type": "code",
   "execution_count": null,
   "metadata": {},
   "outputs": [],
   "source": [
    "fig = go.Figure(data = [go.Densitymapbox(lat=df1_archive['latitude'], lon=df1_archive['longitude'], z=df1_archive['bright_ti4'], radius=1, colorscale='Hot', zmax=400, zmin=0)],\n",
    "               layout=go.Layout(updatemenus=[dict(type=\"buttons\", buttons=buttons,showactive=True)] ), \n",
    "               frames=frames\n",
    ")\n",
    "\n",
    "fig.update_layout(mapbox_style=MAPBOX_STYLE, \n",
    "                  mapbox_accesstoken=MAPBOX_TOKEN,\n",
    "                  mapbox_center_lon=135,\n",
    "                  mapbox_center_lat=-25.34,\n",
    "                  mapbox_zoom=3.5)\n",
    "\n",
    "\"\"\"fig.update_layout(mapbox_style=\"stamen-terrain\", \n",
    "                  mapbox_center_lon=135,\n",
    "                  mapbox_center_lat=-25.34,\n",
    "                  mapbox_zoom=3.5)\"\"\"\n",
    "\n",
    "\n",
    "fig.update_layout(sliders=[sliders_dict],\n",
    "                 title='Australia fires over time')\n",
    "\n",
    "fig.update_layout(height=850)\n",
    "fig.show()"
   ]
  },
  {
   "cell_type": "code",
   "execution_count": null,
   "metadata": {},
   "outputs": [],
   "source": []
  }
 ],
 "metadata": {
  "kernelspec": {
   "display_name": "nlp",
   "language": "python",
   "name": "nlp"
  },
  "language_info": {
   "codemirror_mode": {
    "name": "ipython",
    "version": 3
   },
   "file_extension": ".py",
   "mimetype": "text/x-python",
   "name": "python",
   "nbconvert_exporter": "python",
   "pygments_lexer": "ipython3",
   "version": "3.7.2"
  }
 },
 "nbformat": 4,
 "nbformat_minor": 4
}
